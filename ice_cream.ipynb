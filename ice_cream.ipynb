{
  "nbformat": 4,
  "nbformat_minor": 0,
  "metadata": {
    "colab": {
      "provenance": []
    },
    "kernelspec": {
      "name": "python3",
      "display_name": "Python 3"
    },
    "language_info": {
      "name": "python"
    }
  },
  "cells": [
    {
      "cell_type": "code",
      "execution_count": 1,
      "metadata": {
        "colab": {
          "base_uri": "https://localhost:8080/"
        },
        "id": "MfxZ3_1js63f",
        "outputId": "6371838a-225a-4852-eea0-73b011fbd2c2"
      },
      "outputs": [
        {
          "output_type": "stream",
          "name": "stdout",
          "text": [
            "I like ice cream.\n"
          ]
        }
      ],
      "source": [
        "# this is the ice cream lab\n",
        "print(\"I like ice cream.\")"
      ]
    }
  ]
}